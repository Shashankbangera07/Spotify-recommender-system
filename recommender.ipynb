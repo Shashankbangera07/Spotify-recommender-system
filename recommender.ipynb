{
 "cells": [
  {
   "cell_type": "markdown",
   "metadata": {},
   "source": [
    "# Building a Recommendation System"
   ]
  },
  {
   "cell_type": "markdown",
   "metadata": {},
   "source": [
    "In this notebook we will build a content-based recommendation system on the previously saved .csv file."
   ]
  },
  {
   "cell_type": "markdown",
   "metadata": {},
   "source": [
    "Importing libraries to be used."
   ]
  },
  {
   "cell_type": "code",
   "execution_count": 1,
   "metadata": {},
   "outputs": [
    {
     "name": "stdout",
     "output_type": "stream",
     "text": [
      "Requirement already satisfied: spotipy in /Users/shashankbangera/anaconda3/envs/spotify_recsys/lib/python3.11/site-packages (2.19.0)\n",
      "Requirement already satisfied: requests>=2.25.0 in /Users/shashankbangera/anaconda3/envs/spotify_recsys/lib/python3.11/site-packages (from spotipy) (2.31.0)\n",
      "Requirement already satisfied: six>=1.15.0 in /Users/shashankbangera/anaconda3/envs/spotify_recsys/lib/python3.11/site-packages (from spotipy) (1.16.0)\n",
      "Requirement already satisfied: urllib3>=1.26.0 in /Users/shashankbangera/anaconda3/envs/spotify_recsys/lib/python3.11/site-packages (from spotipy) (2.0.4)\n",
      "Requirement already satisfied: charset-normalizer<4,>=2 in /Users/shashankbangera/anaconda3/envs/spotify_recsys/lib/python3.11/site-packages (from requests>=2.25.0->spotipy) (3.2.0)\n",
      "Requirement already satisfied: idna<4,>=2.5 in /Users/shashankbangera/anaconda3/envs/spotify_recsys/lib/python3.11/site-packages (from requests>=2.25.0->spotipy) (3.4)\n",
      "Requirement already satisfied: certifi>=2017.4.17 in /Users/shashankbangera/anaconda3/envs/spotify_recsys/lib/python3.11/site-packages (from requests>=2.25.0->spotipy) (2023.7.22)\n"
     ]
    }
   ],
   "source": [
    "!pip install spotipy\n",
    "import spotipy\n",
    "from spotipy.oauth2 import SpotifyClientCredentials\n",
    "import pandas as pd\n",
    "from sklearn.preprocessing import StandardScaler\n",
    "from sklearn.pipeline import Pipeline\n",
    "import numpy as np\n",
    "from sklearn.cluster import KMeans\n",
    "from sklearn.decomposition import PCA\n",
    "from collections import defaultdict\n",
    "from scipy.spatial.distance import cdist\n",
    "cid = 'cdb0a1aa1fc24842b9d98603fab657be'\n",
    "secret = 'e421b4cb445b45dd8ea9635ba9892c22'\n",
    "client_credentials_manager = SpotifyClientCredentials(client_id=cid, client_secret=secret)\n",
    "sp = spotipy.Spotify(client_credentials_manager\n",
    "=\n",
    "client_credentials_manager)\n",
    "import warnings\n",
    "warnings.filterwarnings(\"ignore\")\n"
   ]
  },
  {
   "cell_type": "code",
   "execution_count": 2,
   "metadata": {},
   "outputs": [],
   "source": [
    "df = pd.read_csv('fourtet.csv')"
   ]
  },
  {
   "cell_type": "markdown",
   "metadata": {},
   "source": [
    "The below function uses Spotipy to find any track and return its metadata and audio features."
   ]
  },
  {
   "cell_type": "code",
   "execution_count": 3,
   "metadata": {},
   "outputs": [],
   "source": [
    "def find_song(name, artist):\n",
    "\n",
    "    # Initialize an empty dictionary to store features and values\n",
    "    song_data = defaultdict()\n",
    "    \n",
    "    # Using Spotipy search function for track and artist, returning None if cannot be found in Spotify\n",
    "    results = sp.search(q= 'track: {} artist: {}'.format(name,\n",
    "                                                       artist), limit=1)\n",
    "    if results['tracks']['items'] == []:\n",
    "        return None\n",
    "\n",
    "    # Isolating track information and ID from results\n",
    "    results = results['tracks']['items'][0]\n",
    "    track_id = results['id']\n",
    "    \n",
    "    # Obtaining audio features\n",
    "    audio_features = sp.audio_features(track_id)[0]\n",
    "    \n",
    "    # Preparing columns and converting to DataFrame\n",
    "    song_data['name'] = [name]\n",
    "    song_data['artist'] = [artist]\n",
    "    song_data['explicit'] = [int(results['explicit'])]\n",
    "    song_data['duration_ms'] = [results['duration_ms']]\n",
    "    song_data['popularity'] = [results['popularity']]\n",
    "    \n",
    "    for key, value in audio_features.items():\n",
    "        song_data[key] = value\n",
    "    \n",
    "    return pd.DataFrame(song_data)"
   ]
  },
  {
   "cell_type": "markdown",
   "metadata": {},
   "source": [
    "We can also call a function to return this information from a dataset and revert to our previous function if the song is not available."
   ]
  },
  {
   "cell_type": "code",
   "execution_count": 4,
   "metadata": {},
   "outputs": [],
   "source": [
    "def get_song_data(song, spotify_data):\n",
    "\n",
    "    # Function will attempt to find ID track name and artist from dataset to return track data\n",
    "    try:\n",
    "        song_data = spotify_data[(spotify_data['track_name'] == song['name']) \n",
    "                                & (spotify_data['artist_name'] == song['artist'])].iloc[0]\n",
    "        return song_data\n",
    "    \n",
    "    except IndexError:\n",
    "        return find_song(song['name'], song['artist'])"
   ]
  },
  {
   "cell_type": "markdown",
   "metadata": {},
   "source": [
    "From a list of multiple songs, we can calculate the mean vector of its audio features."
   ]
  },
  {
   "cell_type": "code",
   "execution_count": 5,
   "metadata": {},
   "outputs": [],
   "source": [
    "def get_mean_vector(song_list, spotify_data):\n",
    "\n",
    "    #Initialize empty list to store vectors\n",
    "    song_vectors = []\n",
    "\n",
    "    # Identify audio features columns\n",
    "    number_cols = ['valence', 'acousticness', 'danceability', 'duration_ms', 'energy', 'instrumentalness', 'liveness', 'loudness', 'speechiness', 'tempo']\n",
    "\n",
    "    # Append list of values to list\n",
    "    for song in song_list:\n",
    "        song_data = get_song_data(song, spotify_data)\n",
    "        if song_data is None:\n",
    "            print('Warning: {} not found in Spotify or database'.format(song['name']))\n",
    "            continue\n",
    "        song_vector = song_data[number_cols].values\n",
    "        song_vectors.append(song_vector)  \n",
    "    \n",
    "    # Convert to single array and return mean\n",
    "    song_matrix = np.array(list(song_vectors))\n",
    "    return np.mean(song_matrix, axis=0)"
   ]
  },
  {
   "cell_type": "markdown",
   "metadata": {},
   "source": [
    "We are finally ready to build our recommender. This function will take in a list of songs and return n recommendations as set by the user."
   ]
  },
  {
   "cell_type": "code",
   "execution_count": 6,
   "metadata": {},
   "outputs": [],
   "source": [
    "def recommend_songs(song_list, spotify_data, n_songs=10):\n",
    "\n",
    "    # Establishing metadata and numerical columns\n",
    "    metadata_cols = ['track_name', 'artist_name']\n",
    "    number_cols = ['valence', 'acousticness', 'danceability', 'duration_ms', 'energy', 'instrumentalness', 'liveness', 'loudness', 'speechiness', 'tempo']\n",
    "    \n",
    "    # Getting mean vector\n",
    "    song_center = get_mean_vector(song_list, spotify_data)\n",
    "    \n",
    "    # Dropping extra columns\n",
    "    spotify_data = spotify_data.drop(['popularity', 'Unnamed: 0'], axis=1)\n",
    "    \n",
    "    # Using KMeans to cluster data, fitting and adding labels to dataset\n",
    "    X = spotify_data.select_dtypes(np.number)\n",
    "    cluster_pipeline = Pipeline([('scaler', StandardScaler()), ('kmeans', KMeans(n_clusters=3))])\n",
    "    cluster_pipeline.fit(X.values)\n",
    "    cluster_labels = cluster_pipeline.predict(X.values)\n",
    "    spotify_data['cluster'] = cluster_labels\n",
    "    \n",
    "    # Scaling and transforming numerical columns of data and reshaped song center\n",
    "    scaler = cluster_pipeline.steps[0][1]\n",
    "    scaled_data = scaler.transform(spotify_data[number_cols])\n",
    "    scaled_song_center = scaler.transform(song_center.reshape(1, -1))\n",
    "    \n",
    "    # Computing cosine distance on transformed arrays\n",
    "    distances = cdist(scaled_song_center, scaled_data, 'cosine')\n",
    "    \n",
    "    # Return sorted list of top n indices \n",
    "    index = list(np.argsort(distances)[:, :n_songs][0])\n",
    "    \n",
    "    # Converting to DataFrame and returning track and artist name\n",
    "    rec_songs = spotify_data.iloc[index]\n",
    "    df_recs = pd.DataFrame(rec_songs[metadata_cols])\n",
    "    return df_recs\n"
   ]
  },
  {
   "cell_type": "code",
   "execution_count": 7,
   "metadata": {},
   "outputs": [
    {
     "data": {
      "text/html": [
       "<div>\n",
       "<style scoped>\n",
       "    .dataframe tbody tr th:only-of-type {\n",
       "        vertical-align: middle;\n",
       "    }\n",
       "\n",
       "    .dataframe tbody tr th {\n",
       "        vertical-align: top;\n",
       "    }\n",
       "\n",
       "    .dataframe thead th {\n",
       "        text-align: right;\n",
       "    }\n",
       "</style>\n",
       "<table border=\"1\" class=\"dataframe\">\n",
       "  <thead>\n",
       "    <tr style=\"text-align: right;\">\n",
       "      <th></th>\n",
       "      <th>track_name</th>\n",
       "      <th>artist_name</th>\n",
       "    </tr>\n",
       "  </thead>\n",
       "  <tbody>\n",
       "    <tr>\n",
       "      <th>1922</th>\n",
       "      <td>Sweet Songs</td>\n",
       "      <td>Sarah Webster Fabio</td>\n",
       "    </tr>\n",
       "    <tr>\n",
       "      <th>391</th>\n",
       "      <td>Movement 5</td>\n",
       "      <td>Floating Points</td>\n",
       "    </tr>\n",
       "    <tr>\n",
       "      <th>1557</th>\n",
       "      <td>Drums Unlimited - Mono</td>\n",
       "      <td>Max Roach</td>\n",
       "    </tr>\n",
       "    <tr>\n",
       "      <th>272</th>\n",
       "      <td>My Friend of Misery - From Jason's Riff Tapes</td>\n",
       "      <td>Metallica</td>\n",
       "    </tr>\n",
       "    <tr>\n",
       "      <th>1213</th>\n",
       "      <td>Spiral Dance</td>\n",
       "      <td>Keith Jarrett</td>\n",
       "    </tr>\n",
       "    <tr>\n",
       "      <th>1074</th>\n",
       "      <td>Say When</td>\n",
       "      <td>Tirzah</td>\n",
       "    </tr>\n",
       "    <tr>\n",
       "      <th>457</th>\n",
       "      <td>Willow's Song</td>\n",
       "      <td>Magnet</td>\n",
       "    </tr>\n",
       "    <tr>\n",
       "      <th>259</th>\n",
       "      <td>I Live For You - Day 1 Demo / Take 1</td>\n",
       "      <td>George Harrison</td>\n",
       "    </tr>\n",
       "    <tr>\n",
       "      <th>817</th>\n",
       "      <td>Brazing the high sky full</td>\n",
       "      <td>Wolfgang Dauner</td>\n",
       "    </tr>\n",
       "    <tr>\n",
       "      <th>1765</th>\n",
       "      <td>Lay Lady Lay</td>\n",
       "      <td>Various Artists</td>\n",
       "    </tr>\n",
       "  </tbody>\n",
       "</table>\n",
       "</div>"
      ],
      "text/plain": [
       "                                         track_name          artist_name\n",
       "1922                                    Sweet Songs  Sarah Webster Fabio\n",
       "391                                      Movement 5      Floating Points\n",
       "1557                         Drums Unlimited - Mono            Max Roach\n",
       "272   My Friend of Misery - From Jason's Riff Tapes            Metallica\n",
       "1213                                   Spiral Dance        Keith Jarrett\n",
       "1074                                       Say When               Tirzah\n",
       "457                                   Willow's Song               Magnet\n",
       "259            I Live For You - Day 1 Demo / Take 1      George Harrison\n",
       "817                       Brazing the high sky full      Wolfgang Dauner\n",
       "1765                                   Lay Lady Lay      Various Artists"
      ]
     },
     "execution_count": 7,
     "metadata": {},
     "output_type": "execute_result"
    }
   ],
   "source": [
    "song_list = [{'name': 'Cardigan', 'artist': 'Taylor Swift','name': 'Love Ridden', 'artist': 'Fiona Apple'}]\n",
    "rec_df = recommend_songs(song_list, df)\n",
    "rec_df"
   ]
  },
  {
   "cell_type": "markdown",
   "metadata": {},
   "source": [
    "We are now ready to deploy our recommendation system in Streamlit."
   ]
  }
 ],
 "metadata": {
  "kernelspec": {
   "display_name": "Python 3",
   "language": "python",
   "name": "python3"
  },
  "language_info": {
   "codemirror_mode": {
    "name": "ipython",
    "version": 3
   },
   "file_extension": ".py",
   "mimetype": "text/x-python",
   "name": "python",
   "nbconvert_exporter": "python",
   "pygments_lexer": "ipython3",
   "version": "3.11.4"
  }
 },
 "nbformat": 4,
 "nbformat_minor": 2
}
